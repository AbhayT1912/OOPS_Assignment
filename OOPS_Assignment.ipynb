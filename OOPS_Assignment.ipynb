{
  "nbformat": 4,
  "nbformat_minor": 0,
  "metadata": {
    "colab": {
      "provenance": []
    },
    "kernelspec": {
      "name": "python3",
      "display_name": "Python 3"
    },
    "language_info": {
      "name": "python"
    }
  },
  "cells": [
    {
      "cell_type": "markdown",
      "source": [
        "# OOPS Assignment"
      ],
      "metadata": {
        "id": "msgvSL6ZJfLD"
      }
    },
    {
      "cell_type": "markdown",
      "source": [
        "# Theory Questions\n"
      ],
      "metadata": {
        "id": "4Kz62ZA0JkXE"
      }
    },
    {
      "cell_type": "markdown",
      "source": [
        "1. What is Object-Oriented Programming (OOP)?\n",
        "\n",
        "-> Object-Oriented Programming is a way of writing code that uses \"objects\" to organize data and functions together. It's like putting related things in containers. OOP helps make code that's easier to reuse and organize through four main ideas: encapsulation (keeping things contained), inheritance (sharing features), polymorphism (flexibility), and abstraction (hiding complexity)."
      ],
      "metadata": {
        "id": "I0n7tQ_XJqNe"
      }
    },
    {
      "cell_type": "markdown",
      "source": [
        "2.  What is a class in OOP?\n",
        "\n",
        "-> A class is like a blueprint or recipe for creating objects. It defines what data (attributes) and functions (methods) the objects will have when you create them."
      ],
      "metadata": {
        "id": "ucBy8oe5Lefi"
      }
    },
    {
      "cell_type": "markdown",
      "source": [
        "3. What is an object in OOP?\n",
        "\n",
        "-> An object is something you create from a class blueprint. If a class is like a cookie cutter, an object is like the actual cookie. Each object has its own values for data and can use all the functions defined in its class."
      ],
      "metadata": {
        "id": "0I71MOLzLlux"
      }
    },
    {
      "cell_type": "markdown",
      "source": [
        "4. What is the difference between abstraction and encapsulation?\n",
        "\n",
        "-> Abstraction means hiding the complicated details and showing only what's important. It's like using a TV remote without needing to know the electronics inside. Encapsulation means bundling data and functions together in a class and controlling access to them. It's like putting things in a box where some things can be seen or changed, and others can't."
      ],
      "metadata": {
        "id": "wRafl4uYL0Vw"
      }
    },
    {
      "cell_type": "markdown",
      "source": [
        "5. What are dunder methods in Python?\n",
        "\n",
        "-> Dunder methods are special functions in Python that have two underscores at the start and end of their names, like __init__ or __str__. They let you control how your objects behave with Python's built-in operations and functions."
      ],
      "metadata": {
        "id": "AiPI-w8tL6UC"
      }
    },
    {
      "cell_type": "markdown",
      "source": [
        "6. Explain the concept of inheritance in OOP.\n",
        "\n",
        "-> Inheritance is when a new class can get attributes and methods from an existing class. It's like how you might inherit traits from your parents. This helps avoid repeating code and creates relationships between classes."
      ],
      "metadata": {
        "id": "zKi7J7PNMGrS"
      }
    },
    {
      "cell_type": "markdown",
      "source": [
        "7. What is polymorphism in OOP?\n",
        "\n",
        "-> Polymorphism means \"many forms.\" It allows different classes to be treated as if they're the same type. It's like how both cats and dogs are animals - they both respond to \"make a sound\" but a cat meows while a dog barks. You can use the same command for different types of objects."
      ],
      "metadata": {
        "id": "TG0WN5-OMdmh"
      }
    },
    {
      "cell_type": "markdown",
      "source": [
        "8. How is encapsulation achieved in Python?\n",
        "\n",
        "-> Python uses several ways to achieve encapsulation:\n",
        "\n",
        "Using double underscores (__name) to make attributes harder to access directly\n",
        "\n",
        "Using properties (special functions) to control how attributes are accessed or changed\n",
        "\n",
        "Using a single underscore (_name) as a hint that something shouldn't be accessed directly\n",
        "\n",
        "Example:"
      ],
      "metadata": {
        "id": "JKDdZ3i7Mm0g"
      }
    },
    {
      "cell_type": "code",
      "source": [
        "class BankAccount:\n",
        "    def __init__(self, balance):\n",
        "        self.__balance = balance\n",
        "\n",
        "    @property\n",
        "    def balance(self):\n",
        "        return self.__balance\n",
        "\n",
        "    @balance.setter\n",
        "    def balance(self, value):\n",
        "        if value >= 0:\n",
        "            self.__balance = value\n",
        "        else:\n",
        "            print(\"Balance can't be negative\")\n",
        "\n",
        "obj1 = BankAccount(1000)\n",
        "print(obj1.balance)\n",
        "obj1.balance = 500\n",
        "print(obj1.balance)"
      ],
      "metadata": {
        "colab": {
          "base_uri": "https://localhost:8080/"
        },
        "id": "KCoyKgzsMun5",
        "outputId": "75cc70a8-d02d-4adf-e4a1-f5d6b79c75b6"
      },
      "execution_count": null,
      "outputs": [
        {
          "output_type": "stream",
          "name": "stdout",
          "text": [
            "1000\n",
            "500\n"
          ]
        }
      ]
    },
    {
      "cell_type": "markdown",
      "source": [
        "9. What is a constructor in Python?\n",
        "\n",
        "-> A constructor is a special function called __init__ that runs automatically when you create a new object. It sets up the initial values for the object."
      ],
      "metadata": {
        "id": "ekegL8wVPfQt"
      }
    },
    {
      "cell_type": "code",
      "source": [
        "class Person:\n",
        "    def __init__(self, name, age):  # This is the constructor\n",
        "        self.name = name\n",
        "        self.age = age\n",
        "\n",
        "person1 = Person(\"Alice\", 30)\n",
        "print(person1.name)\n",
        "print(person1.age)"
      ],
      "metadata": {
        "colab": {
          "base_uri": "https://localhost:8080/"
        },
        "id": "EE-gCu_OPqEs",
        "outputId": "77a9c60d-af81-4056-814d-e92cbfd6667b"
      },
      "execution_count": null,
      "outputs": [
        {
          "output_type": "stream",
          "name": "stdout",
          "text": [
            "Alice\n",
            "30\n"
          ]
        }
      ]
    },
    {
      "cell_type": "markdown",
      "source": [
        "10. What are class and static methods in Python?\n",
        "\n",
        "->Class methods can work with data that belongs to the whole class, not just one object. They use the @classmethod tag and take cls as their first input.\n",
        "\n",
        "Static methods are regular functions put inside a class because they're related to the class's purpose. They don't use any class or object data and have the @staticmethod tag."
      ],
      "metadata": {
        "id": "YSZsdp-GQJv6"
      }
    },
    {
      "cell_type": "code",
      "source": [
        "class MathHelpers:\n",
        "    school_name = \"Math Academy\"\n",
        "\n",
        "    @classmethod\n",
        "    def change_school(cls, new_name):\n",
        "        cls.school_name = new_name\n",
        "\n",
        "    @staticmethod\n",
        "    def add(x, y):\n",
        "        return x + y\n",
        "\n",
        "obj1 = MathHelpers()\n",
        "print(MathHelpers.school_name)\n",
        "MathHelpers.change_school(\"New School\")\n",
        "print(MathHelpers.school_name)\n",
        "print(MathHelpers.add(5, 3))"
      ],
      "metadata": {
        "colab": {
          "base_uri": "https://localhost:8080/"
        },
        "id": "ZzOwNZdiQQam",
        "outputId": "f0c3bfb8-7ea2-4905-9381-a5e12a816691"
      },
      "execution_count": null,
      "outputs": [
        {
          "output_type": "stream",
          "name": "stdout",
          "text": [
            "Math Academy\n",
            "New School\n",
            "8\n"
          ]
        }
      ]
    },
    {
      "cell_type": "markdown",
      "source": [
        "11. What is method overloading in Python?\n",
        "\n",
        "Python doesn't directly support having multiple functions with the same name but different inputs (method overloading).\n",
        "\n",
        "Use default values for parameters.\n",
        "\n",
        "Accept any number of inputs with *args.\n",
        "\n",
        "Check the type of inputs and do different things based on them."
      ],
      "metadata": {
        "id": "pj84RufqQndi"
      }
    },
    {
      "cell_type": "code",
      "source": [
        "class Calculator:\n",
        "    def add(self, *numbers):\n",
        "        return sum(numbers)\n",
        "\n",
        "obj1 = Calculator()\n",
        "print(obj1.add(1, 2))\n",
        "print(obj1.add(1, 2, 3))\n"
      ],
      "metadata": {
        "colab": {
          "base_uri": "https://localhost:8080/"
        },
        "id": "L0SYsMTkQ1rZ",
        "outputId": "1e1ca0d9-f1f4-4e68-b798-2c97a696779d"
      },
      "execution_count": null,
      "outputs": [
        {
          "output_type": "stream",
          "name": "stdout",
          "text": [
            "3\n",
            "6\n"
          ]
        }
      ]
    },
    {
      "cell_type": "markdown",
      "source": [
        "12. What is method overriding in OOP?\n",
        "\n",
        "-> Method overriding is when a child class rewrites a function that its parent class already has. The child's version replaces the parent's version when you use the child class."
      ],
      "metadata": {
        "id": "0t4ovaVYRcRy"
      }
    },
    {
      "cell_type": "code",
      "source": [
        "class Animal:\n",
        "    def speak(self):\n",
        "        return \"Some sound\"\n",
        "\n",
        "class Dog(Animal):\n",
        "    def speak(self):\n",
        "        return \"Woof!\"\n",
        "\n",
        "class Cat(Animal):\n",
        "    def speak(self):\n",
        "        return \"Meow!\"\n",
        "\n",
        "obj1 = Dog()\n",
        "obj2 = Cat()\n",
        "print(obj1.speak())\n",
        "print(obj2.speak())"
      ],
      "metadata": {
        "colab": {
          "base_uri": "https://localhost:8080/"
        },
        "id": "vR3VXnvbRjAR",
        "outputId": "b1b1eca9-b1f5-439d-e2df-3b3635514015"
      },
      "execution_count": null,
      "outputs": [
        {
          "output_type": "stream",
          "name": "stdout",
          "text": [
            "Woof!\n",
            "Meow!\n"
          ]
        }
      ]
    },
    {
      "cell_type": "markdown",
      "source": [
        "13. What is a property decorator in Python?\n",
        "\n",
        "-> A property decorator (@property) is a special tag that turns a method into something you can access like a regular attribute. It lets you add special behavior when getting, setting, or deleting that attribute."
      ],
      "metadata": {
        "id": "d7jvquSlR2o4"
      }
    },
    {
      "cell_type": "code",
      "source": [
        "class Circle:\n",
        "    def __init__(self, radius):\n",
        "        self._radius = radius\n",
        "\n",
        "    @property\n",
        "    def radius(self):\n",
        "        return self._radius\n",
        "\n",
        "    @radius.setter\n",
        "    def radius(self, value):\n",
        "        if value > 0:\n",
        "            self._radius = value\n",
        "        else:\n",
        "            print(\"Radius must be positive\")\n",
        "\n",
        "obj1 = Circle(5)\n",
        "print(obj1.radius)\n",
        "obj1.radius = 10\n",
        "print(obj1.radius)"
      ],
      "metadata": {
        "colab": {
          "base_uri": "https://localhost:8080/"
        },
        "id": "lXKlAkttSGgt",
        "outputId": "64831cde-7319-4940-8c1a-574a41e6f24a"
      },
      "execution_count": null,
      "outputs": [
        {
          "output_type": "stream",
          "name": "stdout",
          "text": [
            "5\n",
            "10\n"
          ]
        }
      ]
    },
    {
      "cell_type": "markdown",
      "source": [
        "14. Why is polymorphism important in OOP?\n",
        "\n",
        "-> Polymorphism is important because it:\n",
        "\n",
        "Makes code more flexible and reusable\n",
        "\n",
        "Lets you write code that can work with different types of objects\n",
        "\n",
        "Helps you add new types of objects without changing existing code\n",
        "\n",
        "Makes your programs easier to extend and maintain"
      ],
      "metadata": {
        "id": "W-dC5HfSuUGk"
      }
    },
    {
      "cell_type": "markdown",
      "source": [
        "15. What is an abstract class in Python?\n",
        "\n",
        "-> An abstract class is a class that can't be used to create objects directly - it's only meant to be a parent for other classes. It can include \"abstract methods\" that simply define what functions the child classes must implement."
      ],
      "metadata": {
        "id": "0dTe2INLuegW"
      }
    },
    {
      "cell_type": "code",
      "source": [
        "from abc import ABC, abstractmethod\n",
        "\n",
        "class Shape(ABC):\n",
        "    @abstractmethod\n",
        "    def area(self):\n",
        "        pass\n",
        "\n",
        "class Square(Shape):\n",
        "    def __init__(self, side):\n",
        "        self.side = side\n",
        "\n",
        "    def area(self):\n",
        "        return self.side * self.side\n",
        "\n",
        "obj1 = Square(5)\n",
        "print(obj1.area())"
      ],
      "metadata": {
        "colab": {
          "base_uri": "https://localhost:8080/"
        },
        "id": "gPjfF5XsujeR",
        "outputId": "212cd21f-87c4-430e-bf07-dd2a2296dd0a"
      },
      "execution_count": null,
      "outputs": [
        {
          "output_type": "stream",
          "name": "stdout",
          "text": [
            "25\n"
          ]
        }
      ]
    },
    {
      "cell_type": "markdown",
      "source": [
        "16. What are the advantages of OOP?\n",
        "\n",
        "-> Some benefits of OOP include:\n",
        "\n",
        "Better organization by keeping related things together\n",
        "\n",
        "Code reuse through inheritance and sharing\n",
        "\n",
        "Easier maintenance because implementation details are hidden\n",
        "\n",
        "Flexibility to make changes without breaking everything\n",
        "\n",
        "Better security by controlling access to data\n",
        "\n",
        "More natural way to model real-world things and relationships"
      ],
      "metadata": {
        "id": "_hVz5qUPu8t4"
      }
    },
    {
      "cell_type": "markdown",
      "source": [
        "17. What is the difference between a class variable and an instance variable?\n",
        "\n",
        "->Class variables belong to the class itself and are shared by all objects created from that class. They're defined outside methods.\n",
        "\n",
        "Instance variables belong to each individual object and can have different values for each object. They're usually defined in the constructor."
      ],
      "metadata": {
        "id": "mYCkjz8dvHhi"
      }
    },
    {
      "cell_type": "code",
      "source": [
        "class Student:\n",
        "    school = \"Python School\"\n",
        "\n",
        "    def __init__(self, name):\n",
        "        self.name = name\n",
        "\n",
        "obj1 = Student(\"Abhay\")\n",
        "print(obj1.name)\n",
        "print(Student.school)"
      ],
      "metadata": {
        "colab": {
          "base_uri": "https://localhost:8080/"
        },
        "id": "pptsWe1pvU62",
        "outputId": "56560723-a71b-46c3-d2bc-c8e469bb20db"
      },
      "execution_count": null,
      "outputs": [
        {
          "output_type": "stream",
          "name": "stdout",
          "text": [
            "Abhay\n",
            "Python School\n"
          ]
        }
      ]
    },
    {
      "cell_type": "markdown",
      "source": [
        "18. What is multiple inheritance in Python?\n",
        "\n",
        "Multiple inheritance is when a class inherits from more than one parent class. It gets features from all of the parent classes."
      ],
      "metadata": {
        "id": "LtWECs5gv-Dg"
      }
    },
    {
      "cell_type": "code",
      "source": [
        "class Phone:\n",
        "    def make_call(self):\n",
        "        print(\"Making call\")\n",
        "\n",
        "class Camera:\n",
        "    def take_photo(self):\n",
        "        print(\"Taking photo\")\n",
        "\n",
        "class Smartphone(Phone, Camera):\n",
        "    def browse_internet(self):\n",
        "        print(\"Browsing internet\")\n",
        "\n",
        "obj2 = Phone()\n",
        "obj3 = Camera()\n",
        "obj4 = Smartphone()\n",
        "obj2.make_call()\n",
        "obj3.take_photo()\n",
        "obj4.take_photo()\n",
        "obj4.make_call()\n",
        "obj4.browse_internet()"
      ],
      "metadata": {
        "colab": {
          "base_uri": "https://localhost:8080/"
        },
        "id": "cpKedCr7wCzq",
        "outputId": "e4c9b3dd-42bd-4406-dec3-90f6df27af45"
      },
      "execution_count": null,
      "outputs": [
        {
          "output_type": "stream",
          "name": "stdout",
          "text": [
            "Making call\n",
            "Taking photo\n",
            "Taking photo\n",
            "Making call\n",
            "Browsing internet\n",
            "None\n"
          ]
        }
      ]
    },
    {
      "cell_type": "markdown",
      "source": [
        "19. Explain the purpose of __str__ and __repr__ methods in Python.\n",
        "\n",
        "-> __str__: Gives a friendly, readable description of an object for regular users\n",
        "\n",
        "__repr__: Gives a detailed, technical description of an object for developers, ideally showing how to recreate it"
      ],
      "metadata": {
        "id": "ZF5LYnelw0rY"
      }
    },
    {
      "cell_type": "code",
      "source": [
        "class Point:\n",
        "    def __init__(self, x, y):\n",
        "        self.x = x\n",
        "        self.y = y\n",
        "\n",
        "    def __str__(self):\n",
        "        return f\"Point at ({self.x}, {self.y})\"\n",
        "\n",
        "    def __repr__(self):\n",
        "        return f\"Point({self.x}, {self.y})\"\n",
        "\n",
        "obj1 = Point(1, 2)\n",
        "print(obj1)\n",
        "print(str(obj1))\n",
        "print(repr(obj1))"
      ],
      "metadata": {
        "colab": {
          "base_uri": "https://localhost:8080/"
        },
        "id": "xrUkyqfyxQhX",
        "outputId": "da1d8e80-37de-4f2b-c88f-589611eee810"
      },
      "execution_count": null,
      "outputs": [
        {
          "output_type": "stream",
          "name": "stdout",
          "text": [
            "Point at (1, 2)\n",
            "Point at (1, 2)\n",
            "Point(1, 2)\n"
          ]
        }
      ]
    },
    {
      "cell_type": "markdown",
      "source": [
        "20. What is the significance of the 'super()' function in Python?\n",
        "\n",
        "-> The super() function lets you call methods from a parent class. It's useful when you override a method but still want to use some of the parent's functionality."
      ],
      "metadata": {
        "id": "WuYREcRfxnEQ"
      }
    },
    {
      "cell_type": "code",
      "source": [
        "class Vehicle:\n",
        "    def __init__(self, color):\n",
        "        self.color = color\n",
        "\n",
        "class Car(Vehicle):\n",
        "    def __init__(self, color, model):\n",
        "        super().__init__(color)\n",
        "        self.model = model"
      ],
      "metadata": {
        "id": "a3U59HDNxuFN"
      },
      "execution_count": null,
      "outputs": []
    },
    {
      "cell_type": "markdown",
      "source": [
        "21. What is the significance of the __del__ method in Python?\n",
        "\n",
        "-> The __del__ method (called a destructor) runs automatically when an object is being removed from memory. It's useful for cleaning up resources like closing files or database connections."
      ],
      "metadata": {
        "id": "Vsn8FLkHx-Vn"
      }
    },
    {
      "cell_type": "code",
      "source": [
        "class FileHandler:\n",
        "    def __init__(self, filename):\n",
        "        self.file = open(filename, 'w')\n",
        "\n",
        "    def __del__(self):\n",
        "        print(\"Closing file\")\n",
        "        self.file.close()\n",
        "obj1 = FileHandler(\"example.txt\")"
      ],
      "metadata": {
        "id": "3uca8TZ3yP47"
      },
      "execution_count": null,
      "outputs": []
    },
    {
      "cell_type": "markdown",
      "source": [
        "22. What is the difference between @staticmethod and @classmethod in Python?\n",
        "\n",
        "-> @staticmethod: A regular function inside a class that doesn't use any class or instance data\n",
        "\n",
        "@classmethod: A method that works with the class itself, not just instances, taking the class as its first parameter (cls)"
      ],
      "metadata": {
        "id": "7nNEz_S4yb7l"
      }
    },
    {
      "cell_type": "code",
      "source": [
        "class MyClass:\n",
        "    count = 0\n",
        "\n",
        "    @classmethod\n",
        "    def increment(cls):\n",
        "        cls.count += 1\n",
        "        return cls.count\n",
        "\n",
        "    @staticmethod\n",
        "    def add(x, y):\n",
        "        return x + y\n",
        "\n",
        "MyClass.increment()\n",
        "MyClass.increment()\n",
        "print(MyClass.count)\n",
        "MyClass.add(5,3)"
      ],
      "metadata": {
        "colab": {
          "base_uri": "https://localhost:8080/"
        },
        "id": "3D4Dai2PyrPW",
        "outputId": "c7e06f0e-a1e7-42a6-8fdb-d774321043d4"
      },
      "execution_count": null,
      "outputs": [
        {
          "output_type": "stream",
          "name": "stdout",
          "text": [
            "2\n"
          ]
        },
        {
          "output_type": "execute_result",
          "data": {
            "text/plain": [
              "8"
            ]
          },
          "metadata": {},
          "execution_count": 8
        }
      ]
    },
    {
      "cell_type": "markdown",
      "source": [
        "23. How does polymorphism work in Python with inheritance?\n",
        "\n",
        "-> Polymorphism with inheritance works by having different classes provide their own versions of the same method. When you call that method, each object responds in its own way."
      ],
      "metadata": {
        "id": "3YxDpTCDzDfP"
      }
    },
    {
      "cell_type": "code",
      "source": [
        "class Animal:\n",
        "    def speak(self):\n",
        "        pass\n",
        "\n",
        "class Dog(Animal):\n",
        "    def speak(self):\n",
        "        return \"Woof!\"\n",
        "\n",
        "class Cat(Animal):\n",
        "    def speak(self):\n",
        "        return \"Meow!\"\n",
        "\n",
        "animals = [Dog(), Cat()]\n",
        "for animal in animals:\n",
        "    print(animal.speak())"
      ],
      "metadata": {
        "colab": {
          "base_uri": "https://localhost:8080/"
        },
        "id": "mzTFbF8xzKPY",
        "outputId": "e6e163f5-9b8b-4c62-d49a-d52b6db2eb95"
      },
      "execution_count": null,
      "outputs": [
        {
          "output_type": "stream",
          "name": "stdout",
          "text": [
            "Woof!\n",
            "Meow!\n"
          ]
        }
      ]
    },
    {
      "cell_type": "markdown",
      "source": [
        "24. What is method chaining in Python OOP?\n",
        "\n",
        "-> Method chaining lets you call multiple methods in one line. Each method returns self (the object itself) so you can keep calling methods on the result."
      ],
      "metadata": {
        "id": "eVH9c1DwzVIX"
      }
    },
    {
      "cell_type": "code",
      "source": [
        "class Calculator:\n",
        "    def __init__(self):\n",
        "        self.result = 0\n",
        "\n",
        "    def add(self, value):\n",
        "        self.result += value\n",
        "        return self\n",
        "\n",
        "    def subtract(self, value):\n",
        "        self.result -= value\n",
        "        return self\n",
        "calculator = Calculator()\n",
        "result = calculator.add(9).subtract(3).result\n",
        "print(result)"
      ],
      "metadata": {
        "colab": {
          "base_uri": "https://localhost:8080/"
        },
        "id": "J1gHpS1GzbQI",
        "outputId": "cf382489-c076-4c74-d096-b14d656b175e"
      },
      "execution_count": null,
      "outputs": [
        {
          "output_type": "stream",
          "name": "stdout",
          "text": [
            "6\n"
          ]
        }
      ]
    },
    {
      "cell_type": "markdown",
      "source": [
        "25. What is the purpose of the __call__ method in Python?\n",
        "\n",
        "The __call__ method lets you use an object as if it were a function. When you add parentheses after the object name, this method runs."
      ],
      "metadata": {
        "id": "5tTcMFt_0Mur"
      }
    },
    {
      "cell_type": "code",
      "source": [
        "class Counter:\n",
        "    def __init__(self):\n",
        "        self.count = 0\n",
        "\n",
        "    def __call__(self):\n",
        "        self.count += 1\n",
        "        return self.count\n",
        "\n",
        "\n",
        "counter = Counter()\n",
        "print(counter())\n",
        "print(counter())"
      ],
      "metadata": {
        "colab": {
          "base_uri": "https://localhost:8080/"
        },
        "id": "OPlqPq580Xax",
        "outputId": "a8a0ec4e-8554-4915-aa5e-eedfa0a927fb"
      },
      "execution_count": null,
      "outputs": [
        {
          "output_type": "stream",
          "name": "stdout",
          "text": [
            "1\n",
            "2\n"
          ]
        }
      ]
    },
    {
      "cell_type": "markdown",
      "source": [
        "# Coding Questions\n"
      ],
      "metadata": {
        "id": "QUagqFK1ARxU"
      }
    },
    {
      "cell_type": "code",
      "source": [
        "# 1.  Create a parent class Animal with a method speak() that prints a generic message. Create a child class Dog that overrides the speak() method to print \"Bark!\"\n",
        "\n",
        "class Animal:\n",
        "    def speak(self):\n",
        "        print(\"Generic animal sound\")\n",
        "\n",
        "class Dog(Animal):\n",
        "    def speak(self):\n",
        "        print(\"Bark!\")\n",
        "Animmal1 = Animal()\n",
        "Animmal1.speak()\n",
        "dog1 = Dog()\n",
        "dog1.speak()\n"
      ],
      "metadata": {
        "colab": {
          "base_uri": "https://localhost:8080/"
        },
        "id": "YAQkUzgTAXME",
        "outputId": "ada57ccf-5982-46da-8ce8-3127e5e5953c"
      },
      "execution_count": null,
      "outputs": [
        {
          "output_type": "stream",
          "name": "stdout",
          "text": [
            "Generic animal sound\n",
            "Bark!\n"
          ]
        }
      ]
    },
    {
      "cell_type": "code",
      "source": [
        "# 2. Write a program to create an abstract class Shape with a method area(). Derive classes Circle and Rectangle from it and implement the area() method in both\n",
        "\n",
        "from abc import ABC, abstractmethod\n",
        "\n",
        "class Shape(ABC):\n",
        "    @abstractmethod\n",
        "    def area(self):\n",
        "        pass\n",
        "class Circle(Shape):\n",
        "    def __init__(self, radius):\n",
        "        self.radius = radius\n",
        "\n",
        "    def area(self):\n",
        "        return 3.14 * self.radius ** 2\n",
        "class Rectangle(Shape):\n",
        "    def __init__(self, length, width):\n",
        "        self.length = length\n",
        "        self.width = width\n",
        "\n",
        "    def area(self):\n",
        "        return self.length * self.width\n",
        "\n",
        "circle1 = Circle(5)\n",
        "rectangle1 = Rectangle(4, 6)\n",
        "print(circle1.area())\n",
        "print(rectangle1.area())\n"
      ],
      "metadata": {
        "colab": {
          "base_uri": "https://localhost:8080/"
        },
        "id": "TqaBRvOaAukX",
        "outputId": "2a101791-53c7-47f7-d0d9-4b810744d258"
      },
      "execution_count": null,
      "outputs": [
        {
          "output_type": "stream",
          "name": "stdout",
          "text": [
            "78.5\n",
            "24\n"
          ]
        }
      ]
    },
    {
      "cell_type": "code",
      "source": [
        "# 3. Implement a multi-level inheritance scenario where a class Vehicle has an attribute type. Derive a class Car and further derive a class ElectricCar that adds a battery attribute\n",
        "\n",
        "class Vehicle:\n",
        "    def __init__(self, type):\n",
        "        self.type = type\n",
        "\n",
        "class Car(Vehicle):\n",
        "    def __init__(self, type, color):\n",
        "        super().__init__(type)\n",
        "        self.color = color\n",
        "class ElectricCar(Car):\n",
        "    def __init__(self, type, color, battery):\n",
        "        super().__init__(type, color)\n",
        "        self.battery = battery\n",
        "\n",
        "car1 = ElectricCar(\"Electric_Car\", \"Red\", \"10kWh\")\n",
        "print(car1.type)\n",
        "print(car1.color)\n",
        "print(car1.battery)"
      ],
      "metadata": {
        "colab": {
          "base_uri": "https://localhost:8080/"
        },
        "id": "pf5Upoe-BXxt",
        "outputId": "f6939249-ccd4-4815-8f6e-050964b002a3"
      },
      "execution_count": null,
      "outputs": [
        {
          "output_type": "stream",
          "name": "stdout",
          "text": [
            "Electric_Car\n",
            "Red\n",
            "10kWh\n"
          ]
        }
      ]
    },
    {
      "cell_type": "code",
      "source": [
        "# 4.  Demonstrate polymorphism by creating a base class Bird with a method fly(). Create two derived classes Sparrow and Penguin that override the fly() method.\n",
        "\n",
        "class Bird:\n",
        "    def fly(self):\n",
        "        print(\"Birds can fly\")\n",
        "\n",
        "class Sparrow(Bird):\n",
        "    def fly(self):\n",
        "        print(\"Sparrows can fly\")\n",
        "\n",
        "class Penguin(Bird):\n",
        "    def fly(self):\n",
        "        print(\"Penguins can't fly\")\n",
        "\n",
        "bird1 = Bird()\n",
        "bird1.fly()\n",
        "sparrow1 = Sparrow()\n",
        "sparrow1.fly()\n",
        "penguin1 = Penguin()\n",
        "penguin1.fly()\n"
      ],
      "metadata": {
        "colab": {
          "base_uri": "https://localhost:8080/"
        },
        "id": "w-Rqhl3MB95e",
        "outputId": "f48f8cd6-d247-45e1-e05d-832e2117614d"
      },
      "execution_count": null,
      "outputs": [
        {
          "output_type": "stream",
          "name": "stdout",
          "text": [
            "Birds can fly\n",
            "Sparrows can fly\n",
            "Penguins can't fly\n"
          ]
        }
      ]
    },
    {
      "cell_type": "code",
      "source": [
        "# 5. Write a program to demonstrate encapsulation by creating a class BankAccount with private attributes balance and methods to deposit, withdraw, and check balance\n",
        "\n",
        "class BankAccount:\n",
        "    def __init__(self, balance):\n",
        "        self.__balance = balance\n",
        "\n",
        "    def deposit(self, amount):\n",
        "        self.__balance += amount\n",
        "\n",
        "    def withdraw(self, amount):\n",
        "        if amount <= self.__balance:\n",
        "            self.__balance -= amount\n",
        "        else:\n",
        "            print(\"Insufficient funds\")\n",
        "\n",
        "    def check_balance(self):\n",
        "        return self.__balance\n",
        "\n",
        "account1 = BankAccount(1000)\n",
        "account1.deposit(500)\n",
        "account1.withdraw(200)\n",
        "print(account1.check_balance())\n"
      ],
      "metadata": {
        "colab": {
          "base_uri": "https://localhost:8080/"
        },
        "id": "SqYFMlr8CWXz",
        "outputId": "4349520e-b0cf-44af-d3bb-1788b9f12dda"
      },
      "execution_count": null,
      "outputs": [
        {
          "output_type": "stream",
          "name": "stdout",
          "text": [
            "1300\n"
          ]
        }
      ]
    },
    {
      "cell_type": "code",
      "source": [
        "# 6.  Demonstrate runtime polymorphism using a method play() in a base class Instrument. Derive classes Guitar and Piano that implement their own version of play()\n",
        "\n",
        "class Instrument:\n",
        "    def play(self):\n",
        "        pass\n",
        "\n",
        "class Guitar(Instrument):\n",
        "    def play(self):\n",
        "        print(\"Guitar is playing\")\n",
        "\n",
        "class Piano(Instrument):\n",
        "    def play(self):\n",
        "        print(\"Piano is playing\")\n",
        "\n",
        "guitar1 = Guitar()\n",
        "piano1 = Piano()\n",
        "guitar1.play()\n",
        "piano1.play()\n"
      ],
      "metadata": {
        "colab": {
          "base_uri": "https://localhost:8080/"
        },
        "id": "RbQlHuPYCzBD",
        "outputId": "39e2c493-9609-4f4e-f64a-3fd6ca8e5282"
      },
      "execution_count": null,
      "outputs": [
        {
          "output_type": "stream",
          "name": "stdout",
          "text": [
            "Guitar is playing\n",
            "Piano is playing\n"
          ]
        }
      ]
    },
    {
      "cell_type": "code",
      "source": [
        "# 7. Create a class MathOperations with a class method add_numbers() to add two numbers and a static method subtract_numbers() to subtract two numbers\n",
        "\n",
        "class MathOperations:\n",
        "    @classmethod\n",
        "    def add_numbers(cls, a, b):\n",
        "        return a + b\n",
        "\n",
        "    @staticmethod\n",
        "    def subtract_numbers(a, b):\n",
        "        return a - b\n",
        "\n",
        "print(MathOperations.add_numbers(5, 3))\n",
        "print(MathOperations.subtract_numbers(5, 3))\n"
      ],
      "metadata": {
        "colab": {
          "base_uri": "https://localhost:8080/"
        },
        "id": "mSVL9NyLC-G2",
        "outputId": "979bf4be-81c1-4b20-f2c6-d579dbd4bafe"
      },
      "execution_count": null,
      "outputs": [
        {
          "output_type": "stream",
          "name": "stdout",
          "text": [
            "8\n",
            "2\n"
          ]
        }
      ]
    },
    {
      "cell_type": "code",
      "source": [
        "# 8. Implement a class Person with a class method to count the total number of persons created\n",
        "\n",
        "class Person:\n",
        "    count = 0\n",
        "\n",
        "    def __init__(self):\n",
        "        Person.count += 1\n",
        "\n",
        "    @classmethod\n",
        "    def get_count(cls):\n",
        "        return cls.count\n",
        "\n",
        "person1 = Person()\n",
        "person2 = Person()\n",
        "print(Person.count)"
      ],
      "metadata": {
        "colab": {
          "base_uri": "https://localhost:8080/"
        },
        "id": "Hg5ggYB2DM1d",
        "outputId": "0ba40878-8e17-404a-ec6a-a6caa9fb6b67"
      },
      "execution_count": null,
      "outputs": [
        {
          "output_type": "stream",
          "name": "stdout",
          "text": [
            "2\n"
          ]
        }
      ]
    },
    {
      "cell_type": "code",
      "source": [
        "# 9.  Write a class Fraction with attributes numerator and denominator. Override the str method to display the fraction as \"numerator/denominator\".\n",
        "\n",
        "class Fraction:\n",
        "    def __init__(self, numerator, denominator):\n",
        "        self.numerator = numerator\n",
        "        self.denominator = denominator\n",
        "\n",
        "    def __str__(self):\n",
        "        return f\"{self.numerator}/{self.denominator}\"\n",
        "\n",
        "fraction1 = Fraction(3, 4)\n",
        "print(fraction1)\n"
      ],
      "metadata": {
        "colab": {
          "base_uri": "https://localhost:8080/"
        },
        "id": "gDoHSe98DmUq",
        "outputId": "199bb54f-ddb8-40ed-c762-c488cfd83446"
      },
      "execution_count": null,
      "outputs": [
        {
          "output_type": "stream",
          "name": "stdout",
          "text": [
            "3/4\n"
          ]
        }
      ]
    },
    {
      "cell_type": "code",
      "source": [
        "# 10. Demonstrate operator overloading by creating a class Vector and overriding the add method to add two vectors\n",
        "\n",
        "class Vector:\n",
        "    def __init__(self, x, y):\n",
        "        self.x = x\n",
        "        self.y = y\n",
        "\n",
        "    def __add__(self, other):\n",
        "        return Vector(self.x + other.x, self.y + other.y)\n",
        "\n",
        "vector1 = Vector(1, 2)\n",
        "vector2 = Vector(3, 4)\n",
        "result = vector1 + vector2\n",
        "print(result.x, result.y)\n"
      ],
      "metadata": {
        "colab": {
          "base_uri": "https://localhost:8080/"
        },
        "id": "CJ5GeW0AD1tz",
        "outputId": "25de0bff-2e3d-49fe-d233-57947144e19d"
      },
      "execution_count": null,
      "outputs": [
        {
          "output_type": "stream",
          "name": "stdout",
          "text": [
            "4 6\n"
          ]
        }
      ]
    },
    {
      "cell_type": "code",
      "source": [
        "# 11.  Create a class Person with attributes name and age. Add a method greet() that prints \"Hello, my name is {name} and I am {age} years old\".\n",
        "\n",
        "class Person:\n",
        "    def __init__(self, name, age):\n",
        "        self.name = name\n",
        "        self.age = age\n",
        "\n",
        "    def greet(self):\n",
        "        print(f\"Hello, my name is {self.name} and I am {self.age} years old\")\n",
        "\n",
        "person1 = Person(\"Abhay\", 21)\n",
        "person1.greet()\n"
      ],
      "metadata": {
        "colab": {
          "base_uri": "https://localhost:8080/"
        },
        "id": "eu2LHFVbEv_t",
        "outputId": "8258d811-2b32-43be-9147-b1ca7c32241b"
      },
      "execution_count": null,
      "outputs": [
        {
          "output_type": "stream",
          "name": "stdout",
          "text": [
            "Hello, my name is Abhay and I am 21 years old\n"
          ]
        }
      ]
    },
    {
      "cell_type": "code",
      "source": [
        "# 12.  Implement a class Student with attributes name and grades. Create a method average_grade() to compute the average of the grades.\n",
        "\n",
        "class Student:\n",
        "    def __init__(self, name, grades):\n",
        "        self.name = name\n",
        "        self.grades = grades\n",
        "\n",
        "    def average_grade(self):\n",
        "        return sum(self.grades) / len(self.grades)\n",
        "\n",
        "student1 = Student(\"Abhay\", [90, 85, 95])\n",
        "print(student1.average_grade())\n"
      ],
      "metadata": {
        "colab": {
          "base_uri": "https://localhost:8080/"
        },
        "id": "yd_SafIzFBBE",
        "outputId": "84232d5c-4c92-4c00-fab1-2d3ebb6dacf0"
      },
      "execution_count": null,
      "outputs": [
        {
          "output_type": "stream",
          "name": "stdout",
          "text": [
            "90.0\n"
          ]
        }
      ]
    },
    {
      "cell_type": "code",
      "source": [
        "# 13. Create a class Rectangle with methods set_dimensions() to set the dimensions and area() to calculate the area.\n",
        "\n",
        "class Rectangle:\n",
        "    def __init__(self, length, width):\n",
        "        self.length = length\n",
        "        self.width = width\n",
        "\n",
        "    def set_dimensions(self, length, width):\n",
        "        self.length = length\n",
        "        self.width = width\n",
        "\n",
        "    def area(self):\n",
        "        return self.length * self.width\n",
        "\n",
        "rectangle1 = Rectangle(4, 6)\n",
        "print(rectangle1.area())\n"
      ],
      "metadata": {
        "colab": {
          "base_uri": "https://localhost:8080/"
        },
        "id": "Z29sVe3HFmBj",
        "outputId": "3b78abf9-9e7e-4093-b99b-b814efd3fc6c"
      },
      "execution_count": null,
      "outputs": [
        {
          "output_type": "stream",
          "name": "stdout",
          "text": [
            "24\n"
          ]
        }
      ]
    },
    {
      "cell_type": "code",
      "source": [
        "# 14.  Create a class Employee with a method calculate_salary() that computes the salary based on hours worked and hourly rate. Create a derived class Manager that adds a bonus to the salary\n",
        "\n",
        "class Employee:\n",
        "    def __init__(self, name, hours_worked, hourly_rate):\n",
        "        self.name = name\n",
        "        self.hours_worked = hours_worked\n",
        "        self.hourly_rate = hourly_rate\n",
        "\n",
        "    def calculate_salary(self):\n",
        "        return self.hours_worked * self.hourly_rate\n",
        "\n",
        "\n",
        "class Manager(Employee):\n",
        "    def __init__(self, name, hours_worked, hourly_rate, bonus):\n",
        "        super().__init__(name, hours_worked, hourly_rate)\n",
        "        self.bonus = bonus\n",
        "\n",
        "    def calculate_salary(self):\n",
        "        return super().calculate_salary() + self.bonus\n",
        "\n",
        "manager1 = Manager(\"Abhay\", 40, 50, 1000)\n",
        "print(manager1.calculate_salary())\n"
      ],
      "metadata": {
        "colab": {
          "base_uri": "https://localhost:8080/"
        },
        "id": "iyDr9UFAGOZH",
        "outputId": "b764745e-124f-4f4b-b008-e8b0fa9717da"
      },
      "execution_count": null,
      "outputs": [
        {
          "output_type": "stream",
          "name": "stdout",
          "text": [
            "3000\n"
          ]
        }
      ]
    },
    {
      "cell_type": "code",
      "source": [
        "#15.  Create a class Product with attributes name, price, and quantity. Implement a method total_price() that calculates the total price of the product\n",
        "\n",
        "class Product:\n",
        "    def __init__(self, name, price, quantity):\n",
        "        self.name = name\n",
        "        self.price = price\n",
        "        self.quantity = quantity\n",
        "\n",
        "    def total_price(self):\n",
        "        return self.price * self.quantity\n",
        "\n",
        "product1 = Product(\"Laptop\", 1000, 2)\n",
        "print(product1.total_price())\n"
      ],
      "metadata": {
        "colab": {
          "base_uri": "https://localhost:8080/"
        },
        "id": "oSqXH3f2HIII",
        "outputId": "bf2d10c0-74e0-4e8e-b8ff-815ea15e3ce2"
      },
      "execution_count": null,
      "outputs": [
        {
          "output_type": "stream",
          "name": "stdout",
          "text": [
            "2000\n"
          ]
        }
      ]
    },
    {
      "cell_type": "code",
      "source": [
        "#16.  Create a class Animal with an abstract method sound(). Create two derived classes Cow and Sheep that implement the sound() method\n",
        "\n",
        "from abc import ABC, abstractmethod\n",
        "\n",
        "class Animal(ABC):\n",
        "    @abstractmethod\n",
        "    def sound(self):\n",
        "        pass\n",
        "\n",
        "class Cow(Animal):\n",
        "    def sound(self):\n",
        "        print(\"Moo!\")\n",
        "\n",
        "class Sheep(Animal):\n",
        "    def sound(self):\n",
        "        print(\"Baa!\")\n",
        "\n",
        "cow1 = Cow()\n",
        "sheep1 = Sheep()\n",
        "cow1.sound()\n",
        "sheep1.sound()\n"
      ],
      "metadata": {
        "colab": {
          "base_uri": "https://localhost:8080/"
        },
        "id": "XOF4l0DrHVet",
        "outputId": "af573b5b-67f8-49dc-ff13-6ca24771078c"
      },
      "execution_count": null,
      "outputs": [
        {
          "output_type": "stream",
          "name": "stdout",
          "text": [
            "Moo!\n",
            "Baa!\n"
          ]
        }
      ]
    },
    {
      "cell_type": "code",
      "source": [
        "#17.  Create a class Book with attributes title, author, and year_published. Add a method get_book_info() that returns a formatted string with the book's details\n",
        "\n",
        "class Book:\n",
        "    def __init__(self, title, author, year_published):\n",
        "        self.title = title\n",
        "        self.author = author\n",
        "        self.year_published = year_published\n",
        "\n",
        "    def get_book_info(self):\n",
        "        return f\"Title: {self.title}\\nAuthor: {self.author}\\nYear Published: {self.year_published}\"\n",
        "\n",
        "book1 = Book(\"Rich Man\",\"Abhay Thakur\",2025)\n",
        "print(book1.get_book_info())\n"
      ],
      "metadata": {
        "colab": {
          "base_uri": "https://localhost:8080/"
        },
        "id": "l6eKvEhOHko5",
        "outputId": "d5e05c8f-79f7-42bb-9e68-c45128f32ff4"
      },
      "execution_count": null,
      "outputs": [
        {
          "output_type": "stream",
          "name": "stdout",
          "text": [
            "Title: Rich Man\n",
            "Author: Abhay Thakur\n",
            "Year Published: 2025\n"
          ]
        }
      ]
    },
    {
      "cell_type": "code",
      "source": [
        "#18.  Create a class House with attributes address and price. Create a derived class Mansion that adds an attribute number_of_rooms\n",
        "\n",
        "class House:\n",
        "    def __init__(self, address, price):\n",
        "        self.address = address\n",
        "        self.price = price\n",
        "\n",
        "    def get_house_info(self):\n",
        "        return f\"Address: {self.address}\\nPrice: {self.price}\"\n",
        "\n",
        "class Mansion(House):\n",
        "    def __init__(self, address, price, number_of_rooms):\n",
        "        super().__init__(address, price)\n",
        "        self.number_of_rooms = number_of_rooms\n",
        "\n",
        "    def get_mansion_info(self):\n",
        "        return f\"{super().get_house_info()}\\nNumber of Rooms: {self.number_of_rooms}\"\n",
        "\n",
        "mension1 = Mansion(\"MP Nagar Bhopal\",1500,2)\n",
        "mension1.get_mansion_info()\n"
      ],
      "metadata": {
        "colab": {
          "base_uri": "https://localhost:8080/",
          "height": 35
        },
        "id": "CEtG7cAjH_33",
        "outputId": "8ff78812-5099-4941-d11d-bd1c7b30a401"
      },
      "execution_count": null,
      "outputs": [
        {
          "output_type": "execute_result",
          "data": {
            "text/plain": [
              "'Address: MP Nagar Bhopal\\nPrice: 1500\\nNumber of Rooms: 2'"
            ],
            "application/vnd.google.colaboratory.intrinsic+json": {
              "type": "string"
            }
          },
          "metadata": {},
          "execution_count": 38
        }
      ]
    }
  ]
}